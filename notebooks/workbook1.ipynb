{
 "cells": [
  {
   "cell_type": "code",
   "execution_count": 8,
   "metadata": {},
   "outputs": [],
   "source": [
    "import os \n",
    "\n",
    "import tensorflow as tf\n",
    "from keras import Sequential\n",
    "from keras.preprocessing.image import ImageDataGenerator\n",
    "from keras.layers import Dense, Conv2D, MaxPooling2D, Dropout\n",
    "from keras.activations import relu, softmax\n",
    "from keras.optimizers import Adam \n",
    "from keras.losses import categorical_crossentropy\n",
    "from tensorflow.python.keras.utils.data_utils import get_file\n",
    "\n",
    "import cv2\n"
   ]
  },
  {
   "cell_type": "code",
   "execution_count": 2,
   "metadata": {},
   "outputs": [],
   "source": [
    "with open(\"/media/deborshiroy/MY DATA/My Projects/birds classification/app/coco.names\", \"r\") as f:\n",
    "    classesList = f.read().splitlines()    "
   ]
  },
  {
   "cell_type": "code",
   "execution_count": 3,
   "metadata": {},
   "outputs": [
    {
     "data": {
      "text/plain": [
       "['__Background__',\n",
       " 'person',\n",
       " 'bicycle',\n",
       " 'car',\n",
       " 'motorcycle',\n",
       " 'airplane',\n",
       " 'bus',\n",
       " 'train',\n",
       " 'truck',\n",
       " 'boat',\n",
       " 'traffic light',\n",
       " 'fire hydrant',\n",
       " 'street sign',\n",
       " 'stop sign',\n",
       " 'parking meter',\n",
       " 'bench',\n",
       " 'bird',\n",
       " 'cat',\n",
       " 'dog',\n",
       " 'horse',\n",
       " 'sheep',\n",
       " 'cow',\n",
       " 'elephant',\n",
       " 'bear',\n",
       " 'zebra',\n",
       " 'giraffe',\n",
       " 'hat',\n",
       " 'backpack',\n",
       " 'umbrella',\n",
       " 'shoe',\n",
       " 'eye glasses',\n",
       " 'handbag',\n",
       " 'tie',\n",
       " 'suitcase',\n",
       " 'frisbee',\n",
       " 'skis',\n",
       " 'snowboard',\n",
       " 'sports ball',\n",
       " 'kite',\n",
       " 'baseball bat',\n",
       " 'baseball glove',\n",
       " 'skateboard',\n",
       " 'surfboard',\n",
       " 'tennis racket',\n",
       " 'bottle',\n",
       " 'plate',\n",
       " 'wine glass',\n",
       " 'cup',\n",
       " 'fork',\n",
       " 'knife',\n",
       " 'spoon',\n",
       " 'bowl',\n",
       " 'banana',\n",
       " 'apple',\n",
       " 'sandwich',\n",
       " 'orange',\n",
       " 'broccoli',\n",
       " 'carrot',\n",
       " 'hot dog',\n",
       " 'pizza',\n",
       " 'donut',\n",
       " 'cake',\n",
       " 'chair',\n",
       " 'couch',\n",
       " 'potted plant',\n",
       " 'bed',\n",
       " 'mirror',\n",
       " 'dining table',\n",
       " 'window',\n",
       " 'desk',\n",
       " 'toilet',\n",
       " 'door',\n",
       " 'tv',\n",
       " 'laptop',\n",
       " 'mouse',\n",
       " 'remote',\n",
       " 'keyboard',\n",
       " 'cell phone',\n",
       " 'microwave',\n",
       " 'oven',\n",
       " 'toaster',\n",
       " 'sink',\n",
       " 'refrigerator',\n",
       " 'blender',\n",
       " 'book',\n",
       " 'clock',\n",
       " 'vase',\n",
       " 'scissors',\n",
       " 'teddy bear',\n",
       " 'hair drier',\n",
       " 'toothbrush',\n",
       " 'hair brush']"
      ]
     },
     "execution_count": 3,
     "metadata": {},
     "output_type": "execute_result"
    }
   ],
   "source": [
    "classesList"
   ]
  },
  {
   "cell_type": "code",
   "execution_count": 21,
   "metadata": {},
   "outputs": [
    {
     "name": "stdout",
     "output_type": "stream",
     "text": [
      "efficientdet_d4_coco17_tpu-32 model is loading \n"
     ]
    },
    {
     "name": "stderr",
     "output_type": "stream",
     "text": [
      "2022-09-12 11:33:21.753576: I tensorflow/stream_executor/cuda/cuda_gpu_executor.cc:980] successful NUMA node read from SysFS had negative value (-1), but there must be at least one NUMA node, so returning NUMA node zero\n",
      "2022-09-12 11:33:21.761768: I tensorflow/stream_executor/cuda/cuda_gpu_executor.cc:980] successful NUMA node read from SysFS had negative value (-1), but there must be at least one NUMA node, so returning NUMA node zero\n",
      "2022-09-12 11:33:21.761980: I tensorflow/stream_executor/cuda/cuda_gpu_executor.cc:980] successful NUMA node read from SysFS had negative value (-1), but there must be at least one NUMA node, so returning NUMA node zero\n",
      "2022-09-12 11:33:21.762448: I tensorflow/core/platform/cpu_feature_guard.cc:193] This TensorFlow binary is optimized with oneAPI Deep Neural Network Library (oneDNN) to use the following CPU instructions in performance-critical operations:  AVX2 FMA\n",
      "To enable them in other operations, rebuild TensorFlow with the appropriate compiler flags.\n",
      "2022-09-12 11:33:21.763375: I tensorflow/stream_executor/cuda/cuda_gpu_executor.cc:980] successful NUMA node read from SysFS had negative value (-1), but there must be at least one NUMA node, so returning NUMA node zero\n",
      "2022-09-12 11:33:21.763585: I tensorflow/stream_executor/cuda/cuda_gpu_executor.cc:980] successful NUMA node read from SysFS had negative value (-1), but there must be at least one NUMA node, so returning NUMA node zero\n",
      "2022-09-12 11:33:21.763733: I tensorflow/stream_executor/cuda/cuda_gpu_executor.cc:980] successful NUMA node read from SysFS had negative value (-1), but there must be at least one NUMA node, so returning NUMA node zero\n",
      "2022-09-12 11:33:22.292291: I tensorflow/stream_executor/cuda/cuda_gpu_executor.cc:980] successful NUMA node read from SysFS had negative value (-1), but there must be at least one NUMA node, so returning NUMA node zero\n",
      "2022-09-12 11:33:22.292479: I tensorflow/stream_executor/cuda/cuda_gpu_executor.cc:980] successful NUMA node read from SysFS had negative value (-1), but there must be at least one NUMA node, so returning NUMA node zero\n",
      "2022-09-12 11:33:22.292647: I tensorflow/stream_executor/cuda/cuda_gpu_executor.cc:980] successful NUMA node read from SysFS had negative value (-1), but there must be at least one NUMA node, so returning NUMA node zero\n",
      "2022-09-12 11:33:22.292767: I tensorflow/core/common_runtime/gpu/gpu_device.cc:1616] Created device /job:localhost/replica:0/task:0/device:GPU:0 with 2626 MB memory:  -> device: 0, name: NVIDIA GeForce GTX 1650, pci bus id: 0000:01:00.0, compute capability: 7.5\n",
      "WARNING:absl:Importing a function (__inference_EfficientDet-D4_layer_call_and_return_conditional_losses_194916) with ops with unsaved custom gradients. Will likely fail if a gradient is requested.\n",
      "WARNING:absl:Importing a function (__inference_EfficientDet-D4_layer_call_and_return_conditional_losses_167775) with ops with unsaved custom gradients. Will likely fail if a gradient is requested.\n",
      "WARNING:absl:Importing a function (__inference_bifpn_layer_call_and_return_conditional_losses_131153) with ops with unsaved custom gradients. Will likely fail if a gradient is requested.\n",
      "WARNING:absl:Importing a function (__inference_bifpn_layer_call_and_return_conditional_losses_134709) with ops with unsaved custom gradients. Will likely fail if a gradient is requested.\n",
      "WARNING:absl:Importing a function (__inference___call___46929) with ops with unsaved custom gradients. Will likely fail if a gradient is requested.\n",
      "WARNING:absl:Importing a function (__inference_EfficientDet-D4_layer_call_and_return_conditional_losses_187495) with ops with unsaved custom gradients. Will likely fail if a gradient is requested.\n",
      "WARNING:absl:Importing a function (__inference_EfficientDet-D4_layer_call_and_return_conditional_losses_175196) with ops with unsaved custom gradients. Will likely fail if a gradient is requested.\n"
     ]
    }
   ],
   "source": [
    "LABELS = [\"birds\"]\n",
    "\n",
    "PRETRAINED_MODEL_FOLDER = \"pretrained_model\"\n",
    "\n",
    "EFFICIENTDET_D4_MODEL_URL = \"http://download.tensorflow.org/models/object_detection/tf2/20200711/efficientdet_d4_coco17_tpu-32.tar.gz\"\n",
    "MODEL_NAME = EFFICIENTDET_D4_MODEL_URL.split(\"/\")[-1].split(\".\")[0]\n",
    "FILE_NAME = EFFICIENTDET_D4_MODEL_URL.split(\"/\")[-1]\n",
    "\n",
    "\n",
    "\n",
    "print(f\"{MODEL_NAME} model is loading \")\n",
    "tf.keras.backend.clear_session()\n",
    "model = tf.saved_model.load(\n",
    "os.path.join(\n",
    "\"../../pretrained_model\",\n",
    "\"checkpoints\",\n",
    "MODEL_NAME,\n",
    "\"saved_model\"\n",
    ")\n",
    ")"
   ]
  },
  {
   "cell_type": "code",
   "execution_count": 28,
   "metadata": {},
   "outputs": [
    {
     "name": "stdout",
     "output_type": "stream",
     "text": [
      "tf.Tensor([0], shape=(1,), dtype=int32)\n"
     ]
    }
   ],
   "source": [
    "import numpy as np\n",
    "image = cv2.imread(\"../test_data/images (1).jpeg\")\n",
    "inputTensor = cv2.cvtColor(\n",
    "    image, \n",
    "    cv2.COLOR_BGR2RGB\n",
    ")\n",
    "inputTensor = tf.convert_to_tensor(\n",
    "    inputTensor,\n",
    "    dtype=tf.uint8\n",
    ")\n",
    "inputTensor = inputTensor[tf.newaxis,...]\n",
    "\n",
    "detections = model(inputTensor)\n",
    "bboxes = detections[\"detection_boxes\"][0].numpy()\n",
    "classIndexes = detections[\"detection_classes\"][0].numpy().astype(np.int32)\n",
    "classScores = detections[\"detection_scores\"][0].numpy()\n",
    "\n",
    "imH, imW, imC = image.shape\n",
    "bboxidx = tf.image.non_max_suppression(\n",
    "    bboxes,\n",
    "    classScores,\n",
    "    max_output_size=50,\n",
    "    iou_threshold=0.5,\n",
    "    score_threshold=0.5\n",
    ")\n",
    "print(bboxidx)\n",
    "if len(bboxidx) != 0:\n",
    "    for i in bboxidx:\n",
    "        bbox = tuple(bboxes[i].tolist())\n",
    "        classConfidence = round(100*classScores[i])\n",
    "        classIndex = classIndexes[i]\n",
    "\n",
    "        classLabelText = LABELS[0]\n",
    "        #classColor = colorsList[classIndex]\n",
    "\n",
    "        displayText = f\"{classLabelText}: {classConfidence}%\"\n",
    "\n",
    "        ymin, xmin, ymax, xmax = bbox\n",
    "\n",
    "        xmin, xmax, ymin, ymax = (xmin * imW, xmax * imW, ymin * imH, ymax * imH)\n",
    "        xmin, xmax, ymin, ymax = int(xmin), int(xmax), int(ymin), int(ymax)\n",
    "\n",
    "        cv2.rectangle(image, (xmin, ymin), (xmax, ymax), color = (255, 0, 0), thickness=1)\n",
    "        cv2.putText(image, displayText, (xmin, ymin-10), cv2.FONT_HERSHEY_PLAIN, 1, (255, 0, 0), 2) \n",
    "\n",
    "cv2.imshow(\"Result\", image)\n",
    "cv2.waitKey(0)\n",
    "cv2.destroyAllWindows()\n",
    "\n"
   ]
  },
  {
   "cell_type": "code",
   "execution_count": 5,
   "metadata": {},
   "outputs": [],
   "source": [
    "def predictImage(self, imagePath, threshold=0.5):\n",
    "    image = cv2.imread(imagePath)\n",
    "    bboximage = self.createBoundingBox(image, threshold)\n",
    "    #cv2.imwrite(self.modelName+\"jpg\", bboximage)\n",
    "\n",
    "    cv2.imshow(\"Result\", bboximage)\n",
    "    cv2.waitKey(0)\n",
    "    cv2.destroyAllWindows()"
   ]
  },
  {
   "cell_type": "code",
   "execution_count": 10,
   "metadata": {},
   "outputs": [
    {
     "ename": "TypeError",
     "evalue": "predictImage() missing 1 required positional argument: 'imagePath'",
     "output_type": "error",
     "traceback": [
      "\u001b[0;31m---------------------------------------------------------------------------\u001b[0m",
      "\u001b[0;31mTypeError\u001b[0m                                 Traceback (most recent call last)",
      "Cell \u001b[0;32mIn [10], line 1\u001b[0m\n\u001b[0;32m----> 1\u001b[0m \u001b[43mpredictImage\u001b[49m\u001b[43m(\u001b[49m\u001b[38;5;124;43m\"\u001b[39;49m\u001b[38;5;124;43mapp/test_data/images (1).jpeg\u001b[39;49m\u001b[38;5;124;43m\"\u001b[39;49m\u001b[43m,\u001b[49m\u001b[43m \u001b[49m\u001b[43mthreshold\u001b[49m\u001b[38;5;241;43m=\u001b[39;49m\u001b[38;5;241;43m0.5\u001b[39;49m\u001b[43m)\u001b[49m\n",
      "\u001b[0;31mTypeError\u001b[0m: predictImage() missing 1 required positional argument: 'imagePath'"
     ]
    }
   ],
   "source": [
    "predictImage(\"app/test_data/images (1).jpeg\", threshold=0.5)"
   ]
  },
  {
   "cell_type": "code",
   "execution_count": null,
   "metadata": {},
   "outputs": [],
   "source": []
  }
 ],
 "metadata": {
  "kernelspec": {
   "display_name": "Python 3.10.4 ('env': venv)",
   "language": "python",
   "name": "python3"
  },
  "language_info": {
   "codemirror_mode": {
    "name": "ipython",
    "version": 3
   },
   "file_extension": ".py",
   "mimetype": "text/x-python",
   "name": "python",
   "nbconvert_exporter": "python",
   "pygments_lexer": "ipython3",
   "version": "3.10.4"
  },
  "orig_nbformat": 4,
  "vscode": {
   "interpreter": {
    "hash": "8fba29d569d9dcb6cf80804ee37477f943a7a62d1943533af3b1b9ccde3cc7d8"
   }
  }
 },
 "nbformat": 4,
 "nbformat_minor": 2
}
